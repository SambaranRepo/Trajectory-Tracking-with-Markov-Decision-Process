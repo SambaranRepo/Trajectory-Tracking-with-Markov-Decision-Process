{
 "cells": [
  {
   "cell_type": "code",
   "execution_count": null,
   "id": "0289fe58",
   "metadata": {},
   "outputs": [],
   "source": [
    "import numpy as np \n",
    "import itertools as it\n",
    "# from scipy.stats import multivariate_normal\n",
    "from tqdm import tqdm\n",
    "from scipy.stats import multivariate_normal\n",
    "from scipy import sparse\n",
    "from scipy.sparse import csr_matrix\n",
    "\n",
    "\n",
    "t = np.arange(0,51,0.5)\n",
    "e_x = np.linspace(-3,3,20)\n",
    "e_y = e_x\n",
    "th = np.linspace(-np.pi, np.pi,40)\n",
    "X = list(it.product(t,e_x,e_y, th))\n",
    "n_states = len(X)\n",
    "state_table = {}\n",
    "for i in range(n_states):\n",
    "    state_table.update({X[i]:i})\n",
    "v = np.linspace(0,1,5)\n",
    "w = np.linspace(-1,1,10)\n",
    "U = list(it.product(v,w))\n",
    "n_controlspace = len(U)\n",
    "pdf = multivariate_normal(mean=[0,0,0], cov=np.diag([0.04, 0.04, 0.004]))\n",
    "\n",
    "time_step = 0.5\n",
    "def lissajous(k):\n",
    "    xref_start = 0\n",
    "    yref_start = 0\n",
    "    A = 2\n",
    "    B = 2\n",
    "    a = 2*np.pi/50\n",
    "    b = 3*a\n",
    "    T = np.round(2*np.pi/(a*time_step))\n",
    "    k = k % T\n",
    "    delta = np.pi/2\n",
    "    xref = xref_start + A*np.sin(a*k*time_step + delta)\n",
    "    yref = yref_start + B*np.sin(b*k*time_step)\n",
    "    v = [A*a*np.cos(a*k*time_step + delta), B*b*np.cos(b*k*time_step)]\n",
    "    thetaref = np.arctan2(v[1], v[0])\n",
    "    return [xref, yref, thetaref]\n",
    "\n",
    "traj = lissajous\n",
    "cur_ref = []\n",
    "for i in range(200):\n",
    "    cur_ref.append(traj(i))\n",
    "\n",
    "\n",
    "def error_dynamics(e, u,t, ref = cur_ref):\n",
    "    '''\n",
    "    : given current error, time, control, current reference and next reference\n",
    "    : output -> Next error\n",
    "    : Consider noise in the motion model. \n",
    "    '''\n",
    "    G = np.array([[0.5 * np.cos(e[2] + ref[t][2]), 0], [0.5 * np.sin(e[2] + ref[t][2]), 0], [0, 0.5]])\n",
    "    ref_diff = np.array([[ref[t][0] - ref[t+1][0]], [ref[t][1] - ref[t+1][1]], [ref[t][2] -  ref[t+1][2]]])\n",
    "#     print(f'e shape : {e.shape}')\n",
    "    next_error = e[:,None] + G @ np.array([[u[0]], [u[1]]]) + ref_diff\n",
    "    next_error[2] = (next_error[2] + np.pi)%(2*np.pi) - np.pi\n",
    "#     print(f'next error : {next_error}')\n",
    "    next_x, next_y, next_th = next_error[0], next_error[1], next_error[2]\n",
    "    ind_x = (next_x - e_x).argsort()[:5]\n",
    "    ind_y = (next_y - e_y).argsort()[:5]\n",
    "    ind_th = (next_th - th).argsort()[:5]    \n",
    "    next_states, pr = [],[]\n",
    "    for i in range(5):\n",
    "        next_states.append(state_table[((t + 1)%50, e_x[ind_x[i]], e_y[ind_y[i]], th[ind_th[i]])])\n",
    "        pr.append(pdf.pdf([e_x[ind_x[i]], e_y[ind_y[i]], th[ind_th[i]]]))\n",
    "    pr = np.array(pr)\n",
    "    pr /= np.sum(pr)\n",
    "    return next_states, pr\n",
    "\n",
    "\n",
    "def step_cost(e, u):\n",
    "    '''\n",
    "    : given the current error and the control\n",
    "    : compute the step cost defined as the sum of tracking errors and control effort\n",
    "    '''\n",
    "    Q = np.eye(2)\n",
    "    q = 1 \n",
    "    R = np.eye(2)\n",
    "    p = e[:2]\n",
    "    th = e[-1]\n",
    "    u = np.array([[u[0]],[u[1]]])\n",
    "    return p.T @ Q @ p + q*(1 - np.cos(th))**2 + u.T @ R @ u"
   ]
  },
  {
   "cell_type": "code",
   "execution_count": null,
   "id": "3ece63b2",
   "metadata": {
    "scrolled": true
   },
   "outputs": [],
   "source": [
    "L = np.zeros((n_states,n_controlspace))\n",
    "for i in tqdm(range(n_states)):\n",
    "    for j in range(n_controlspace):\n",
    "        e = X[i][1:]\n",
    "        L[i,j] = step_cost(np.array(e), U[j])"
   ]
  },
  {
   "cell_type": "code",
   "execution_count": null,
   "id": "9f82f773",
   "metadata": {},
   "outputs": [],
   "source": [
    "import asyncio\n",
    "\n",
    "def background(f):\n",
    "    def wrapped(*args, **kwargs):\n",
    "        return asyncio.get_event_loop().run_in_executor(None, f, *args, **kwargs)\n",
    "    return wrapped\n",
    "\n",
    "P = [0] * n_states\n",
    "coords1,coords2, coords3 = [], [], []\n",
    "data = []\n",
    "@background\n",
    "def create_P(i):\n",
    "    e = np.array(X[i][1:])\n",
    "    t = int(X[i][0]//0.5)\n",
    "    p = np.zeros((n_controlspace, n_states))\n",
    "    for j in range(n_controlspace):\n",
    "        next_states, pr = error_dynamics(e,U[j],t)\n",
    "#         print(f'probs : {pr}')\n",
    "        for k in range(len(next_states)):\n",
    "            p[j,next_states[k]] = pr[k]\n",
    "            coords1.append(i)\n",
    "            coords2.append(j)\n",
    "            coords3.append(next_states[k])\n",
    "            data.append(pr[k])    \n",
    "\n",
    "L = [0] * n_states\n",
    "@background\n",
    "def create_L(i):\n",
    "    e = X[i][1:]\n",
    "    l = np.zeros(n_controlspace)\n",
    "    for j in range(n_controlspace):\n",
    "        l[j] = step_cost(np.array(e), U[j])\n",
    "    L[i] = l\n",
    "\n",
    "for i in tqdm(range(n_states)):\n",
    "    create_P(i)\n",
    "    create_L(i)"
   ]
  },
  {
   "cell_type": "code",
   "execution_count": null,
   "id": "f9edace5",
   "metadata": {},
   "outputs": [],
   "source": [
    "coords = np.array([coords1, coords2, coords3])"
   ]
  },
  {
   "cell_type": "code",
   "execution_count": null,
   "id": "e6c35389",
   "metadata": {},
   "outputs": [],
   "source": [
    "coords"
   ]
  },
  {
   "cell_type": "code",
   "execution_count": null,
   "id": "6805041c",
   "metadata": {},
   "outputs": [],
   "source": [
    "data"
   ]
  },
  {
   "cell_type": "code",
   "execution_count": null,
   "id": "eb2a2fe4",
   "metadata": {},
   "outputs": [],
   "source": [
    "from sparse import COO"
   ]
  },
  {
   "cell_type": "code",
   "execution_count": null,
   "id": "1c92368b",
   "metadata": {},
   "outputs": [],
   "source": [
    "# coords = np.array([[0,1,2,3,5], [2,3,4,6,7], [0,1,4,5,6]])\n",
    "# data = np.array([4,5,6,7,8])\n",
    "p = COO(coords, data, shape = (n_states, n_controlspace,n_states))"
   ]
  },
  {
   "cell_type": "code",
   "execution_count": null,
   "id": "1da9b4ac",
   "metadata": {},
   "outputs": [],
   "source": [
    "def value_iteration_matrix(V,pi,L,p):\n",
    "    for i in tqdm(range(5000)):\n",
    "        V_new = np.zeros_like(V)\n",
    "        print(f'shape L : {L.shape}')\n",
    "        print(f'shape : {np.sum(p @ V, axis = 2).shape}')\n",
    "        Q = L + 0.98 * np.sum(p @ V, axis = 2)\n",
    "        V_new = np.min(Q, axis = 1, keepdims=True)\n",
    "#         print(f'shape V_new : {V_new.shape}')\n",
    "        pi = np.argmin(Q, axis = 1)\n",
    "        diff = np.linalg.norm(V_new - V, np.inf)\n",
    "        print(f'diff : {diff}')\n",
    "        if diff < 0.03 : \n",
    "            return V_new, pi\n",
    "        else:\n",
    "            V = V_new"
   ]
  },
  {
   "cell_type": "code",
   "execution_count": null,
   "id": "65ac6146",
   "metadata": {},
   "outputs": [],
   "source": [
    "V = np.zeros((n_states, 1))\n",
    "pi = np.zeros((n_states,2))\n",
    "V_opt, pi_opt = value_iteration_matrix(V,pi,L,p)"
   ]
  },
  {
   "cell_type": "code",
   "execution_count": null,
   "id": "5f10f431",
   "metadata": {},
   "outputs": [],
   "source": [
    "pi_opt"
   ]
  },
  {
   "cell_type": "code",
   "execution_count": null,
   "id": "a8e8a5e9",
   "metadata": {},
   "outputs": [],
   "source": []
  }
 ],
 "metadata": {
  "kernelspec": {
   "display_name": "Python 3",
   "language": "python",
   "name": "python3"
  },
  "language_info": {
   "codemirror_mode": {
    "name": "ipython",
    "version": 3
   },
   "file_extension": ".py",
   "mimetype": "text/x-python",
   "name": "python",
   "nbconvert_exporter": "python",
   "pygments_lexer": "ipython3",
   "version": "3.9.12"
  }
 },
 "nbformat": 4,
 "nbformat_minor": 5
}
